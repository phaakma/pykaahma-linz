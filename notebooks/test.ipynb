{
 "cells": [
  {
   "cell_type": "code",
   "execution_count": 1,
   "id": "e57f0245",
   "metadata": {},
   "outputs": [
    {
     "name": "stdout",
     "output_type": "stream",
     "text": [
      "Hello\n"
     ]
    }
   ],
   "source": [
    "print(\"Hello\")"
   ]
  },
  {
   "cell_type": "code",
   "execution_count": 2,
   "id": "a8640a1f",
   "metadata": {},
   "outputs": [],
   "source": [
    "%load_ext autoreload\n",
    "%autoreload 2"
   ]
  },
  {
   "cell_type": "code",
   "execution_count": 4,
   "id": "b283ef9b",
   "metadata": {},
   "outputs": [],
   "source": [
    "import os\n",
    "from dotenv import load_dotenv, find_dotenv\n",
    "import logging\n",
    "\n",
    "# Set up logging\n",
    "logging.basicConfig(level=logging.INFO, format='%(asctime)s - %(levelname)s - %(message)s')\n",
    "\n",
    "#import the KServer module from the src.k_data_helpers package\n",
    "from pykaahma_linz import KServer\n",
    "\n",
    "# find .env automagically by walking up directories until it's found\n",
    "dotenv_path = find_dotenv()\n",
    "load_dotenv(dotenv_path)\n",
    "api_key = os.getenv('LINZ_API_KEY')"
   ]
  },
  {
   "cell_type": "code",
   "execution_count": 6,
   "id": "ea57fc48",
   "metadata": {},
   "outputs": [
    {
     "name": "stdout",
     "output_type": "stream",
     "text": [
      "KServer(base_url=https://data.linz.govt.nz/, api_version=v1.x)\n",
      "KVectorItem(id=50318, title=NZ Rail Station Points (Topo, 1:50k), type=layer, kind=vector)\n"
     ]
    }
   ],
   "source": [
    "rail_station_layer_id = \"50318\" #rail station 175 points\n",
    "fences_layer_id = \"50268\" #NZ Fence Centrelines  \n",
    "geodetic_marks_layer_id = \"50787\" # NZ Geodetic Marks 132,966 point features\n",
    "nz_walking_biking_tracks_layer_id = \"52100\" #NZ Walking and Biking Tracks 29,187 polyline features\n",
    "suburb_locality_table_id = \"113761\" #Suburb Locality - Population 3190 records\n",
    "\n",
    "kserver = KServer.KServer(api_key)\n",
    "print(kserver)\n",
    "itm = kserver.content.get(rail_station_layer_id)\n",
    "print(itm)\n"
   ]
  },
  {
   "cell_type": "code",
   "execution_count": 7,
   "id": "3eec22ad",
   "metadata": {},
   "outputs": [
    {
     "name": "stderr",
     "output_type": "stream",
     "text": [
      "2025-06-02 12:36:11,438 - INFO - Total records returned for NZ Rail Station Points (Topo, 1:50k): 175\n"
     ]
    },
    {
     "data": {
      "text/html": [
       "<div>\n",
       "<style scoped>\n",
       "    .dataframe tbody tr th:only-of-type {\n",
       "        vertical-align: middle;\n",
       "    }\n",
       "\n",
       "    .dataframe tbody tr th {\n",
       "        vertical-align: top;\n",
       "    }\n",
       "\n",
       "    .dataframe thead th {\n",
       "        text-align: right;\n",
       "    }\n",
       "</style>\n",
       "<table border=\"1\" class=\"dataframe\">\n",
       "  <thead>\n",
       "    <tr style=\"text-align: right;\">\n",
       "      <th></th>\n",
       "      <th>t50_fid</th>\n",
       "      <th>name_ascii</th>\n",
       "      <th>macronated</th>\n",
       "      <th>name</th>\n",
       "      <th>geometry</th>\n",
       "    </tr>\n",
       "  </thead>\n",
       "  <tbody>\n",
       "    <tr>\n",
       "      <th>0</th>\n",
       "      <td>2462499</td>\n",
       "      <td>Mataura Station</td>\n",
       "      <td>N</td>\n",
       "      <td>Mataura Station</td>\n",
       "      <td>POINT (1280790.692 4875815.525)</td>\n",
       "    </tr>\n",
       "    <tr>\n",
       "      <th>1</th>\n",
       "      <td>2462503</td>\n",
       "      <td>Gore Station</td>\n",
       "      <td>N</td>\n",
       "      <td>Gore Station</td>\n",
       "      <td>POINT (1286499.107 4886521.957)</td>\n",
       "    </tr>\n",
       "    <tr>\n",
       "      <th>2</th>\n",
       "      <td>2462506</td>\n",
       "      <td>Mosgiel Station</td>\n",
       "      <td>N</td>\n",
       "      <td>Mosgiel Station</td>\n",
       "      <td>POINT (1394416.991 4915116.092)</td>\n",
       "    </tr>\n",
       "    <tr>\n",
       "      <th>3</th>\n",
       "      <td>2462507</td>\n",
       "      <td>Wingatui Station</td>\n",
       "      <td>N</td>\n",
       "      <td>Wingatui Station</td>\n",
       "      <td>POINT (1397284.999 4916238.81)</td>\n",
       "    </tr>\n",
       "    <tr>\n",
       "      <th>4</th>\n",
       "      <td>2462508</td>\n",
       "      <td>Dunedin Station</td>\n",
       "      <td>N</td>\n",
       "      <td>Dunedin Station</td>\n",
       "      <td>POINT (1406645.249 4916722.559)</td>\n",
       "    </tr>\n",
       "  </tbody>\n",
       "</table>\n",
       "</div>"
      ],
      "text/plain": [
       "   t50_fid        name_ascii macronated              name  \\\n",
       "0  2462499   Mataura Station          N   Mataura Station   \n",
       "1  2462503      Gore Station          N      Gore Station   \n",
       "2  2462506   Mosgiel Station          N   Mosgiel Station   \n",
       "3  2462507  Wingatui Station          N  Wingatui Station   \n",
       "4  2462508   Dunedin Station          N   Dunedin Station   \n",
       "\n",
       "                          geometry  \n",
       "0  POINT (1280790.692 4875815.525)  \n",
       "1  POINT (1286499.107 4886521.957)  \n",
       "2  POINT (1394416.991 4915116.092)  \n",
       "3   POINT (1397284.999 4916238.81)  \n",
       "4  POINT (1406645.249 4916722.559)  "
      ]
     },
     "execution_count": 7,
     "metadata": {},
     "output_type": "execute_result"
    }
   ],
   "source": [
    "res = itm.query()\n",
    "#print total number of records in the dataframe\n",
    "logging.info(f\"Total records returned for {itm.title}: {res.shape[0]}\")\n",
    "res.head()"
   ]
  },
  {
   "cell_type": "code",
   "execution_count": 8,
   "id": "9af9b578",
   "metadata": {},
   "outputs": [
    {
     "name": "stderr",
     "output_type": "stream",
     "text": [
      "2025-06-02 12:36:16,339 - INFO - Total records returned NZ Rail Station Points (Topo, 1:50k): 41\n"
     ]
    },
    {
     "data": {
      "text/html": [
       "<div>\n",
       "<style scoped>\n",
       "    .dataframe tbody tr th:only-of-type {\n",
       "        vertical-align: middle;\n",
       "    }\n",
       "\n",
       "    .dataframe tbody tr th {\n",
       "        vertical-align: top;\n",
       "    }\n",
       "\n",
       "    .dataframe thead th {\n",
       "        text-align: right;\n",
       "    }\n",
       "</style>\n",
       "<table border=\"1\" class=\"dataframe\">\n",
       "  <thead>\n",
       "    <tr style=\"text-align: right;\">\n",
       "      <th></th>\n",
       "      <th>__change__</th>\n",
       "      <th>t50_fid</th>\n",
       "      <th>name_ascii</th>\n",
       "      <th>macronated</th>\n",
       "      <th>name</th>\n",
       "      <th>geometry</th>\n",
       "    </tr>\n",
       "  </thead>\n",
       "  <tbody>\n",
       "    <tr>\n",
       "      <th>0</th>\n",
       "      <td>DELETE</td>\n",
       "      <td>7874343</td>\n",
       "      <td>Swanson Station</td>\n",
       "      <td>N</td>\n",
       "      <td>Swanson Station</td>\n",
       "      <td>POINT (1740542.406 5918801.891)</td>\n",
       "    </tr>\n",
       "    <tr>\n",
       "      <th>1</th>\n",
       "      <td>DELETE</td>\n",
       "      <td>7874348</td>\n",
       "      <td>Kingsland</td>\n",
       "      <td>N</td>\n",
       "      <td>Kingsland</td>\n",
       "      <td>POINT (1755495.158 5917850.878)</td>\n",
       "    </tr>\n",
       "    <tr>\n",
       "      <th>2</th>\n",
       "      <td>DELETE</td>\n",
       "      <td>2462509</td>\n",
       "      <td>Sawyers Bay Station</td>\n",
       "      <td>N</td>\n",
       "      <td>Sawyers Bay Station</td>\n",
       "      <td>POINT (1413934.937 4922988.347)</td>\n",
       "    </tr>\n",
       "    <tr>\n",
       "      <th>3</th>\n",
       "      <td>DELETE</td>\n",
       "      <td>6455509</td>\n",
       "      <td>Sheffield</td>\n",
       "      <td>N</td>\n",
       "      <td>Sheffield</td>\n",
       "      <td>POINT (1520561.716 5195578.8)</td>\n",
       "    </tr>\n",
       "    <tr>\n",
       "      <th>4</th>\n",
       "      <td>DELETE</td>\n",
       "      <td>2462550</td>\n",
       "      <td>Seddon Station</td>\n",
       "      <td>N</td>\n",
       "      <td>Seddon Station</td>\n",
       "      <td>POINT (1689445.201 5385956.321)</td>\n",
       "    </tr>\n",
       "  </tbody>\n",
       "</table>\n",
       "</div>"
      ],
      "text/plain": [
       "  __change__  t50_fid           name_ascii macronated                 name  \\\n",
       "0     DELETE  7874343      Swanson Station          N      Swanson Station   \n",
       "1     DELETE  7874348            Kingsland          N            Kingsland   \n",
       "2     DELETE  2462509  Sawyers Bay Station          N  Sawyers Bay Station   \n",
       "3     DELETE  6455509            Sheffield          N            Sheffield   \n",
       "4     DELETE  2462550       Seddon Station          N       Seddon Station   \n",
       "\n",
       "                          geometry  \n",
       "0  POINT (1740542.406 5918801.891)  \n",
       "1  POINT (1755495.158 5917850.878)  \n",
       "2  POINT (1413934.937 4922988.347)  \n",
       "3    POINT (1520561.716 5195578.8)  \n",
       "4  POINT (1689445.201 5385956.321)  "
      ]
     },
     "execution_count": 8,
     "metadata": {},
     "output_type": "execute_result"
    }
   ],
   "source": [
    "res = itm.get_changeset(from_time=\"2024-01-01T00:00:00Z\")\n",
    "logging.info(f\"Total records returned {itm.title}: {res.shape[0]}\")\n",
    "res.head()"
   ]
  },
  {
   "cell_type": "code",
   "execution_count": null,
   "id": "5adf228e",
   "metadata": {},
   "outputs": [],
   "source": []
  }
 ],
 "metadata": {
  "kernelspec": {
   "display_name": ".venv",
   "language": "python",
   "name": "python3"
  },
  "language_info": {
   "codemirror_mode": {
    "name": "ipython",
    "version": 3
   },
   "file_extension": ".py",
   "mimetype": "text/x-python",
   "name": "python",
   "nbconvert_exporter": "python",
   "pygments_lexer": "ipython3",
   "version": "3.13.3"
  }
 },
 "nbformat": 4,
 "nbformat_minor": 5
}
