{
 "cells": [
  {
   "cell_type": "code",
   "execution_count": null,
   "id": "e57f0245",
   "metadata": {},
   "outputs": [],
   "source": [
    "#My VS Code has issues connecting to the venv.\n",
    "# I find that first connecting to one of my conda environments\n",
    "# and then switching to the venv works.\n",
    "# I run this cell on conda environment first then switch to venv\n",
    "# and run it there and seems to be all good.\n",
    "print(\"Hello\")"
   ]
  },
  {
   "cell_type": "code",
   "execution_count": null,
   "id": "a8640a1f",
   "metadata": {},
   "outputs": [],
   "source": [
    "# This cell allows hot reloading of modules.\n",
    "# It is useful for development, so you don't have to restart the kernel.\n",
    "# Some changes such as adding new files or changing the structure of the code\n",
    "# may not be picked up and will require a kernel restart.\n",
    "%load_ext autoreload\n",
    "%autoreload 2"
   ]
  },
  {
   "cell_type": "code",
   "execution_count": null,
   "id": "b283ef9b",
   "metadata": {},
   "outputs": [],
   "source": [
    "import os\n",
    "import requests\n",
    "import asyncio\n",
    "import time\n",
    "from dotenv import load_dotenv, find_dotenv\n",
    "import logging\n",
    "\n",
    "# Set up logging include logger name\n",
    "logging.basicConfig(level=logging.INFO, format='%(asctime)s - %(name)s - %(levelname)s - %(message)s')\n",
    "\n",
    "#import the KServer module from the pykaahma_linz package\n",
    "from pykaahma_linz import KServer\n",
    "\n",
    "# find .env automagically by walking up directories until it's found\n",
    "dotenv_path = find_dotenv()\n",
    "load_dotenv(dotenv_path)\n",
    "api_key = os.getenv('LINZ_API_KEY')\n",
    "\n",
    "#layers\n",
    "rail_station_layer_id = \"50318\" #rail station 175 points\n",
    "fences_layer_id = \"50268\" #NZ Fence Centrelines  \n",
    "geodetic_marks_layer_id = \"50787\" # NZ Geodetic Marks 132,966 point features\n",
    "nz_walking_biking_tracks_layer_id = \"52100\" #NZ Walking and Biking Tracks 29,187 polyline features\n",
    "\n",
    "#tables\n",
    "nz_building_age_table_id = \"105617\" #NZ Building Age 18 records, no changeset\n",
    "suburb_locality_table_id = \"113761\" #NZ Suburb Locality 3190 records\n"
   ]
  },
  {
   "cell_type": "markdown",
   "id": "9a030666",
   "metadata": {},
   "source": [
    "## Server object  \n",
    "Get a reference to the LINZ server  "
   ]
  },
  {
   "cell_type": "code",
   "execution_count": null,
   "id": "ea57fc48",
   "metadata": {},
   "outputs": [],
   "source": [
    "linz = KServer.KServer(api_key)\n",
    "print(linz)"
   ]
  },
  {
   "cell_type": "markdown",
   "id": "f49391ea",
   "metadata": {},
   "source": [
    "## Layer item  \n",
    "Run some tests on a layer item  "
   ]
  },
  {
   "cell_type": "code",
   "execution_count": null,
   "id": "e3c38ecf",
   "metadata": {},
   "outputs": [],
   "source": [
    "itm = linz.content.get(rail_station_layer_id)\n",
    "print(itm)\n",
    "print(itm.title)"
   ]
  },
  {
   "cell_type": "code",
   "execution_count": null,
   "id": "9af9b578",
   "metadata": {},
   "outputs": [],
   "source": [
    "#Query using WFS\n",
    "res = itm.query(count=2)\n",
    "res.head()"
   ]
  },
  {
   "cell_type": "code",
   "execution_count": null,
   "id": "72ce1e8d",
   "metadata": {},
   "outputs": [],
   "source": [
    "# Get a changeset from the layer using WFS\n",
    "res = itm.get_changeset(from_time=\"2024-01-01T00:00:00Z\")\n",
    "logging.info(f\"Total records returned {itm.title}: {res.shape[0]}\")\n",
    "res.head()\n"
   ]
  },
  {
   "cell_type": "code",
   "execution_count": null,
   "id": "8b359aaa",
   "metadata": {},
   "outputs": [],
   "source": [
    "waikato_polygon = {\n",
    "        \"coordinates\": [\n",
    "          [\n",
    "            [\n",
    "              174.30400216373914,\n",
    "              -36.87399457472202\n",
    "            ],\n",
    "            [\n",
    "              174.30400216373914,\n",
    "              -38.83764306196984\n",
    "            ],\n",
    "            [\n",
    "              176.83017911725346,\n",
    "              -38.83764306196984\n",
    "            ],\n",
    "            [\n",
    "              176.83017911725346,\n",
    "              -36.87399457472202\n",
    "            ],\n",
    "            [\n",
    "              174.30400216373914,\n",
    "              -36.87399457472202\n",
    "            ]\n",
    "          ]\n",
    "        ],\n",
    "        \"type\": \"Polygon\"\n",
    "      }"
   ]
  },
  {
   "cell_type": "code",
   "execution_count": null,
   "id": "3683205e",
   "metadata": {},
   "outputs": [],
   "source": [
    "job = itm.export(\"geodatabase\", crs=\"EPSG:2193\", extent=waikato_polygon,)\n",
    "#job = itm.export(\"geodatabase\")"
   ]
  },
  {
   "cell_type": "code",
   "execution_count": null,
   "id": "c65b3d21",
   "metadata": {},
   "outputs": [],
   "source": [
    "job.status"
   ]
  },
  {
   "cell_type": "code",
   "execution_count": null,
   "id": "e463f8e5",
   "metadata": {},
   "outputs": [],
   "source": [
    "output_folder = r\"c:\\temp\\data\"\n",
    "job.download(folder=output_folder)"
   ]
  },
  {
   "cell_type": "markdown",
   "id": "55e4fb08",
   "metadata": {},
   "source": [
    "## Table item  \n",
    "Run some tests on a table item"
   ]
  },
  {
   "cell_type": "code",
   "execution_count": null,
   "id": "65406819",
   "metadata": {},
   "outputs": [],
   "source": [
    "table_itm = linz.content.get(suburb_locality_table_id)\n",
    "print(table_itm)\n",
    "print(table_itm.title)\n",
    "print(f'{table_itm.supports_changesets=}')"
   ]
  },
  {
   "cell_type": "code",
   "execution_count": null,
   "id": "03112e71",
   "metadata": {},
   "outputs": [],
   "source": [
    "#Query using WFS\n",
    "data = table_itm.query(count=2)\n",
    "data.head()"
   ]
  },
  {
   "cell_type": "code",
   "execution_count": null,
   "id": "6fc9fb89",
   "metadata": {},
   "outputs": [],
   "source": [
    "# Get a changeset from the layer using WFS\n",
    "cs_data = table_itm.get_changeset(from_time=\"2024-01-01T00:00:00Z\")\n",
    "logging.info(f\"Total records returned {table_itm.title}: {cs_data.shape[0]}\")\n",
    "cs_data.head()"
   ]
  },
  {
   "cell_type": "code",
   "execution_count": null,
   "id": "212b7602",
   "metadata": {},
   "outputs": [],
   "source": [
    "job = table_itm.export(\"geodatabase\")"
   ]
  },
  {
   "cell_type": "code",
   "execution_count": null,
   "id": "830e59c5",
   "metadata": {},
   "outputs": [],
   "source": [
    "print(job)"
   ]
  },
  {
   "cell_type": "code",
   "execution_count": null,
   "id": "a7d95d52",
   "metadata": {},
   "outputs": [],
   "source": [
    "output_folder = r\"c:\\temp\\data\"\n",
    "job.download(folder=output_folder)"
   ]
  },
  {
   "cell_type": "markdown",
   "id": "f17b6acc",
   "metadata": {},
   "source": [
    "## Test multidownload samples  \n",
    "Test downloading two jobs in a sync and async fashion.  "
   ]
  },
  {
   "cell_type": "code",
   "execution_count": null,
   "id": "d23126b6",
   "metadata": {},
   "outputs": [],
   "source": [
    "async def run_export(itm, export_format, crs, output_folder):\n",
    "    job = itm.export(export_format, crs=crs)\n",
    "    print(f\"Started export job {job.id}\")\n",
    "    file_path = await job.download_async(output_folder)\n",
    "    print(f\"{job.id} downloaded to {file_path}\")\n",
    "    return file_path\n",
    "\n",
    "async def export_multiple_items_async():\n",
    "    output_folder = r\"c:\\temp\\data\\async\"\n",
    "\n",
    "    # Launch both jobs concurrently\n",
    "    # print out the time taken to run both jobs\n",
    "    logging.info(\"Starting multiple export jobs concurrently...\")\n",
    "    start_time = asyncio.get_event_loop().time()\n",
    "    results = await asyncio.gather(\n",
    "        run_export(itm, \"geodatabase\", \"EPSG:2193\", output_folder),\n",
    "        run_export(itm2, \"geodatabase\", \"EPSG:2193\", output_folder),\n",
    "    )\n",
    "    end_time = asyncio.get_event_loop().time()\n",
    "    logging.info(f\"Both export jobs completed in {end_time - start_time:.2f} seconds\")\n",
    "\n",
    "    logging.info(f\"Both exports completed: {str(results)}\")\n",
    "\n",
    "# In Jupyter or async context, use:\n",
    "await export_multiple_items_async()\n",
    "\n",
    "# In script:\n",
    "# asyncio.run(export_multiple_jobs())"
   ]
  },
  {
   "cell_type": "code",
   "execution_count": null,
   "id": "dd7c9dc2",
   "metadata": {},
   "outputs": [],
   "source": [
    "def run_export_sync(itm, export_format, crs, output_folder):\n",
    "    job = itm.export(export_format, crs=crs)\n",
    "    print(f\"Started export job {job.id}\")\n",
    "    file_path = job.download(output_folder)\n",
    "    print(f\"{job.id} downloaded to {file_path}\")\n",
    "    return file_path\n",
    "\n",
    "def export_multiple_items_sync():\n",
    "    output_folder = r\"c:\\temp\\data\\sync\"\n",
    "\n",
    "    logging.info(\"Starting multiple export jobs synchronously...\")\n",
    "    start_time = time.time()\n",
    "    result1 = run_export_sync(itm, \"geodatabase\", \"EPSG:2193\", output_folder)\n",
    "    result2 = run_export_sync(itm2, \"geodatabase\", \"EPSG:2193\", output_folder)\n",
    "    end_time = time.time()\n",
    "    logging.info(f\"Both export jobs completed in {end_time - start_time:.2f} seconds\")\n",
    "\n",
    "    print(f\"Both exports completed: {str([result1, result2])}\")\n",
    "\n",
    "# Call main_sync() in a normal script or notebook cell\n",
    "export_multiple_items_sync()"
   ]
  },
  {
   "cell_type": "code",
   "execution_count": null,
   "id": "23091cca",
   "metadata": {},
   "outputs": [],
   "source": []
  }
 ],
 "metadata": {
  "kernelspec": {
   "display_name": ".venv",
   "language": "python",
   "name": "python3"
  },
  "language_info": {
   "codemirror_mode": {
    "name": "ipython",
    "version": 3
   },
   "file_extension": ".py",
   "mimetype": "text/x-python",
   "name": "python",
   "nbconvert_exporter": "python",
   "pygments_lexer": "ipython3",
   "version": "3.13.3"
  }
 },
 "nbformat": 4,
 "nbformat_minor": 5
}
