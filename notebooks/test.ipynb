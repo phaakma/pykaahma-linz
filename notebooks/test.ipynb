{
 "cells": [
  {
   "cell_type": "code",
   "execution_count": null,
   "id": "e57f0245",
   "metadata": {},
   "outputs": [],
   "source": [
    "print(\"Hello\")"
   ]
  },
  {
   "cell_type": "code",
   "execution_count": null,
   "id": "a8640a1f",
   "metadata": {},
   "outputs": [],
   "source": [
    "%load_ext autoreload\n",
    "%autoreload 2"
   ]
  },
  {
   "cell_type": "code",
   "execution_count": null,
   "id": "b283ef9b",
   "metadata": {},
   "outputs": [],
   "source": [
    "import os\n",
    "import requests\n",
    "import asyncio\n",
    "import time\n",
    "from dotenv import load_dotenv, find_dotenv\n",
    "import logging\n",
    "\n",
    "# Set up logging\n",
    "logging.basicConfig(level=logging.DEBUG, format='%(asctime)s - %(levelname)s - %(message)s')\n",
    "\n",
    "#import the KServer module from the src.k_data_helpers package\n",
    "from pykaahma_linz import KServer\n",
    "\n",
    "# find .env automagically by walking up directories until it's found\n",
    "dotenv_path = find_dotenv()\n",
    "load_dotenv(dotenv_path)\n",
    "api_key = os.getenv('LINZ_API_KEY')"
   ]
  },
  {
   "cell_type": "code",
   "execution_count": null,
   "id": "ea57fc48",
   "metadata": {},
   "outputs": [],
   "source": [
    "rail_station_layer_id = \"50318\" #rail station 175 points\n",
    "fences_layer_id = \"50268\" #NZ Fence Centrelines  \n",
    "geodetic_marks_layer_id = \"50787\" # NZ Geodetic Marks 132,966 point features\n",
    "nz_walking_biking_tracks_layer_id = \"52100\" #NZ Walking and Biking Tracks 29,187 polyline features\n",
    "suburb_locality_table_id = \"113761\" #Suburb Locality - Population 3190 records\n",
    "\n",
    "kserver = KServer.KServer(api_key)\n",
    "print(kserver)\n",
    "itm = kserver.content.get(fences_layer_id)\n",
    "itm2 = kserver.content.get(nz_walking_biking_tracks_layer_id)\n",
    "print(itm)\n",
    "print(itm2)\n"
   ]
  },
  {
   "cell_type": "code",
   "execution_count": null,
   "id": "3eec22ad",
   "metadata": {},
   "outputs": [],
   "source": [
    "itm.title"
   ]
  },
  {
   "cell_type": "code",
   "execution_count": null,
   "id": "9af9b578",
   "metadata": {},
   "outputs": [],
   "source": [
    "res = itm.query(count=2)\n",
    "res.head()"
   ]
  },
  {
   "cell_type": "code",
   "execution_count": null,
   "id": "72ce1e8d",
   "metadata": {},
   "outputs": [],
   "source": [
    "# Get a changeset from the geodetic marks layer\n",
    "res = itm.get_changeset(from_time=\"2024-01-01T00:00:00Z\")\n",
    "logging.info(f\"Total records returned {itm.title}: {res.shape[0]}\")\n",
    "res.head()\n"
   ]
  },
  {
   "cell_type": "code",
   "execution_count": null,
   "id": "8b359aaa",
   "metadata": {},
   "outputs": [],
   "source": [
    "waikato_polygon = {\n",
    "        \"coordinates\": [\n",
    "          [\n",
    "            [\n",
    "              174.30400216373914,\n",
    "              -36.87399457472202\n",
    "            ],\n",
    "            [\n",
    "              174.30400216373914,\n",
    "              -38.83764306196984\n",
    "            ],\n",
    "            [\n",
    "              176.83017911725346,\n",
    "              -38.83764306196984\n",
    "            ],\n",
    "            [\n",
    "              176.83017911725346,\n",
    "              -36.87399457472202\n",
    "            ],\n",
    "            [\n",
    "              174.30400216373914,\n",
    "              -36.87399457472202\n",
    "            ]\n",
    "          ]\n",
    "        ],\n",
    "        \"type\": \"Polygon\"\n",
    "      }"
   ]
  },
  {
   "cell_type": "code",
   "execution_count": null,
   "id": "3683205e",
   "metadata": {},
   "outputs": [],
   "source": [
    "output_folder = r\"c:\\temp\\data\"\n",
    "job = itm.export(\"geodatabase\", crs=\"EPSG:2193\", extent=waikato_polygon,)\n",
    "job.download(folder=output_folder)"
   ]
  },
  {
   "cell_type": "code",
   "execution_count": null,
   "id": "d23126b6",
   "metadata": {},
   "outputs": [],
   "source": [
    "async def run_export(itm, export_format, crs, output_folder):\n",
    "    job = itm.export(export_format, crs=crs)\n",
    "    print(f\"Started export job {job.id}\")\n",
    "    file_path = await job.download_async(output_folder)\n",
    "    print(f\"{job.id} downloaded to {file_path}\")\n",
    "    return file_path\n",
    "\n",
    "async def export_multiple_items_async():\n",
    "    output_folder = r\"c:\\temp\\data\\async\"\n",
    "\n",
    "    # Launch both jobs concurrently\n",
    "    # print out the time taken to run both jobs\n",
    "    logging.info(\"Starting multiple export jobs concurrently...\")\n",
    "    start_time = asyncio.get_event_loop().time()\n",
    "    results = await asyncio.gather(\n",
    "        run_export(itm, \"geodatabase\", \"EPSG:2193\", output_folder),\n",
    "        run_export(itm2, \"geodatabase\", \"EPSG:2193\", output_folder),\n",
    "    )\n",
    "    end_time = asyncio.get_event_loop().time()\n",
    "    logging.info(f\"Both export jobs completed in {end_time - start_time:.2f} seconds\")\n",
    "\n",
    "    logging.info(f\"Both exports completed: {str(results)}\")\n",
    "\n",
    "# In Jupyter or async context, use:\n",
    "await export_multiple_items_async()\n",
    "\n",
    "# In script:\n",
    "# asyncio.run(export_multiple_jobs())\n",
    "\n",
    "\n"
   ]
  },
  {
   "cell_type": "code",
   "execution_count": null,
   "id": "dd7c9dc2",
   "metadata": {},
   "outputs": [],
   "source": [
    "def run_export_sync(itm, export_format, crs, output_folder):\n",
    "    job = itm.export(export_format, crs=crs)\n",
    "    print(f\"Started export job {job.id}\")\n",
    "    file_path = job.download(output_folder)\n",
    "    print(f\"{job.id} downloaded to {file_path}\")\n",
    "    return file_path\n",
    "\n",
    "def export_multiple_items_sync():\n",
    "    output_folder = r\"c:\\temp\\data\\sync\"\n",
    "\n",
    "    logging.info(\"Starting multiple export jobs synchronously...\")\n",
    "    start_time = time.time()\n",
    "    result1 = run_export_sync(itm, \"geodatabase\", \"EPSG:2193\", output_folder)\n",
    "    result2 = run_export_sync(itm2, \"geodatabase\", \"EPSG:2193\", output_folder)\n",
    "    end_time = time.time()\n",
    "    logging.info(f\"Both export jobs completed in {end_time - start_time:.2f} seconds\")\n",
    "\n",
    "    print(f\"Both exports completed: {str([result1, result2])}\")\n",
    "\n",
    "# Call main_sync() in a normal script or notebook cell\n",
    "export_multiple_items_sync()\n"
   ]
  },
  {
   "cell_type": "code",
   "execution_count": null,
   "id": "23091cca",
   "metadata": {},
   "outputs": [],
   "source": []
  }
 ],
 "metadata": {
  "kernelspec": {
   "display_name": ".venv",
   "language": "python",
   "name": "python3"
  },
  "language_info": {
   "codemirror_mode": {
    "name": "ipython",
    "version": 3
   },
   "file_extension": ".py",
   "mimetype": "text/x-python",
   "name": "python",
   "nbconvert_exporter": "python",
   "pygments_lexer": "ipython3",
   "version": "3.13.3"
  }
 },
 "nbformat": 4,
 "nbformat_minor": 5
}
